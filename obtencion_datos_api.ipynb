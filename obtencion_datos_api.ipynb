{
 "cells": [
  {
   "cell_type": "markdown",
   "metadata": {},
   "source": [
    "## Obtenemos los datos de la API, descargamos los datastreams de \"Acceso a Internet\""
   ]
  },
  {
   "cell_type": "code",
   "execution_count": 7,
   "metadata": {},
   "outputs": [],
   "source": [
    "# Importamos Librerias\n",
    "import pandas as pd\n",
    "import requests"
   ]
  },
  {
   "cell_type": "code",
   "execution_count": 1,
   "metadata": {},
   "outputs": [
    {
     "name": "stdout",
     "output_type": "stream",
     "text": [
      "Solicitud completada, lista de datastreams obtenida\n"
     ]
    }
   ],
   "source": [
    "# URL de la API donde vamos a obtener los datos\n",
    "base_url = 'http://api.datosabiertos.enacom.gob.ar/api/v2/datastreams/'\n",
    "params = {'auth_key': 'uumZ3Kro6wVmtvBKb8UKBGY24zXn4FusTDOa27Ao'}\n",
    "\n",
    "# Realizamos la solicitud de los datos a la URL\n",
    "response = requests.get(base_url, params=params)\n",
    "\n",
    "# Verificamos que la solicitud fue exitosa\n",
    "if response.status_code == 200:\n",
    "    # Convertimos los datos a JSN\n",
    "    data = response.json()\n",
    "   \n",
    "    print('Solicitud completada, lista de datastreams obtenida')\n",
    "else:\n",
    "    print('Error al realizar la solicitud:', response.status_code)"
   ]
  },
  {
   "cell_type": "code",
   "execution_count": 2,
   "metadata": {},
   "outputs": [],
   "source": [
    "data_internet = [item for item in data if item['category_name'] == 'Acceso a Internet']"
   ]
  },
  {
   "cell_type": "code",
   "execution_count": 6,
   "metadata": {},
   "outputs": [
    {
     "name": "stdout",
     "output_type": "stream",
     "text": [
      "Descargando --> http://api.datosabiertos.enacom.gob.ar/api/v2/datastreams/PENET-DEL-INTER-FIJO-POR/data.csv/?auth_key=uumZ3Kro6wVmtvBKb8UKBGY24zXn4FusTDOa27Ao\n",
      "Archivo CSV guardado exitosamente\n",
      "Descargando --> http://api.datosabiertos.enacom.gob.ar/api/v2/datastreams/PENET-NACIO-DEL-INTER-FIJO/data.csv/?auth_key=uumZ3Kro6wVmtvBKb8UKBGY24zXn4FusTDOa27Ao\n",
      "Archivo CSV guardado exitosamente\n",
      "Descargando --> http://api.datosabiertos.enacom.gob.ar/api/v2/datastreams/PENET-DEL-INTER-FIJO-51614/data.csv/?auth_key=uumZ3Kro6wVmtvBKb8UKBGY24zXn4FusTDOa27Ao\n",
      "Archivo CSV guardado exitosamente\n",
      "Descargando --> http://api.datosabiertos.enacom.gob.ar/api/v2/datastreams/ACCES-A-INTER-FIJO-23248/data.csv/?auth_key=uumZ3Kro6wVmtvBKb8UKBGY24zXn4FusTDOa27Ao\n",
      "Archivo CSV guardado exitosamente\n",
      "Descargando --> http://api.datosabiertos.enacom.gob.ar/api/v2/datastreams/TOTAL-NACIO-DE-ACCES-32663/data.csv/?auth_key=uumZ3Kro6wVmtvBKb8UKBGY24zXn4FusTDOa27Ao\n",
      "Archivo CSV guardado exitosamente\n",
      "Descargando --> http://api.datosabiertos.enacom.gob.ar/api/v2/datastreams/VELOC-PROME-DE-BAJAD-DE/data.csv/?auth_key=uumZ3Kro6wVmtvBKb8UKBGY24zXn4FusTDOa27Ao\n",
      "Archivo CSV guardado exitosamente\n",
      "Descargando --> http://api.datosabiertos.enacom.gob.ar/api/v2/datastreams/ACCES-A-INTER-FIJO-97624/data.csv/?auth_key=uumZ3Kro6wVmtvBKb8UKBGY24zXn4FusTDOa27Ao\n",
      "Archivo CSV guardado exitosamente\n",
      "Descargando --> http://api.datosabiertos.enacom.gob.ar/api/v2/datastreams/ACCES-A-INTER-FIJO-POR/data.csv/?auth_key=uumZ3Kro6wVmtvBKb8UKBGY24zXn4FusTDOa27Ao\n",
      "Archivo CSV guardado exitosamente\n",
      "Descargando --> http://api.datosabiertos.enacom.gob.ar/api/v2/datastreams/TOTAL-NACIO-DE-ACCES-A/data.csv/?auth_key=uumZ3Kro6wVmtvBKb8UKBGY24zXn4FusTDOa27Ao\n",
      "Archivo CSV guardado exitosamente\n",
      "Descargando --> http://api.datosabiertos.enacom.gob.ar/api/v2/datastreams/INGRE-POR-LA-OPERA-DEL/data.csv/?auth_key=uumZ3Kro6wVmtvBKb8UKBGY24zXn4FusTDOa27Ao\n",
      "Archivo CSV guardado exitosamente\n",
      "Descargando --> http://api.datosabiertos.enacom.gob.ar/api/v2/datastreams/ACCES-A-INTER-FIJO-62463/data.csv/?auth_key=uumZ3Kro6wVmtvBKb8UKBGY24zXn4FusTDOa27Ao\n",
      "Archivo CSV guardado exitosamente\n",
      "Descargando --> http://api.datosabiertos.enacom.gob.ar/api/v2/datastreams/ACCES-A-INTER-FIJO-16249/data.csv/?auth_key=uumZ3Kro6wVmtvBKb8UKBGY24zXn4FusTDOa27Ao\n",
      "Archivo CSV guardado exitosamente\n",
      "Descargando --> http://api.datosabiertos.enacom.gob.ar/api/v2/datastreams/VELOC-PROME-DE-BAJAD-51733/data.csv/?auth_key=uumZ3Kro6wVmtvBKb8UKBGY24zXn4FusTDOa27Ao\n",
      "Archivo CSV guardado exitosamente\n",
      "Descargando --> http://api.datosabiertos.enacom.gob.ar/api/v2/datastreams/BANDA-ANCHA-Y-BANDA-ANGOS/data.csv/?auth_key=uumZ3Kro6wVmtvBKb8UKBGY24zXn4FusTDOa27Ao\n",
      "Archivo CSV guardado exitosamente\n",
      "Descargando --> http://api.datosabiertos.enacom.gob.ar/api/v2/datastreams/TOTAL-NACIO-DE-ACCES-48866/data.csv/?auth_key=uumZ3Kro6wVmtvBKb8UKBGY24zXn4FusTDOa27Ao\n",
      "Archivo CSV guardado exitosamente\n",
      "Descargando --> http://api.datosabiertos.enacom.gob.ar/api/v2/datastreams/CONEC-AL-SERVI-DE-INTER/data.csv/?auth_key=uumZ3Kro6wVmtvBKb8UKBGY24zXn4FusTDOa27Ao\n",
      "Archivo CSV guardado exitosamente\n",
      "Descargando --> http://api.datosabiertos.enacom.gob.ar/api/v2/datastreams/LISTA-DE-LOCAL-CON-CONEC/data.csv/?auth_key=uumZ3Kro6wVmtvBKb8UKBGY24zXn4FusTDOa27Ao\n",
      "Archivo CSV guardado exitosamente\n",
      "Descargando --> http://api.datosabiertos.enacom.gob.ar/api/v2/datastreams/INDIC-MACRO/data.csv/?auth_key=uumZ3Kro6wVmtvBKb8UKBGY24zXn4FusTDOa27Ao\n",
      "Archivo CSV guardado exitosamente\n"
     ]
    }
   ],
   "source": [
    "for i, item in enumerate(data_internet):\n",
    "    guid = item['guid']\n",
    "    url = f\"{base_url}{guid}/data.csv/?auth_key={params['auth_key']}\"\n",
    "    item_response = requests.get(url)\n",
    "    \n",
    "    print('Descargando --> {}'.format(url))\n",
    "    if item_response.status_code == 200:\n",
    "        # Guardar el contenido de la respuesta en un archivo CSV\n",
    "        #file ='datos_' + str(i) + '_internet.csv'\n",
    "        file = item['title'].lower().replace(' ', '_') + '.csv'\n",
    "        dataframe = pd.read_csv(url)\n",
    "        dataframe.to_csv('./datastreams/' + file, index=False)\n",
    "            \n",
    "        print('Archivo CSV guardado exitosamente')\n",
    "    else:\n",
    "        print('Error al hacer la solicitud al elemento:', item_response.status_code)"
   ]
  }
 ],
 "metadata": {
  "interpreter": {
   "hash": "533665c3556debcf62c2e4aeb5f2faaa547c748ce7770c014d6e8a126212c4ea"
  },
  "kernelspec": {
   "display_name": "Python 3.11.4 ('pi_analytics': venv)",
   "language": "python",
   "name": "python3"
  },
  "language_info": {
   "codemirror_mode": {
    "name": "ipython",
    "version": 3
   },
   "file_extension": ".py",
   "mimetype": "text/x-python",
   "name": "python",
   "nbconvert_exporter": "python",
   "pygments_lexer": "ipython3",
   "version": "3.11.4"
  },
  "orig_nbformat": 4
 },
 "nbformat": 4,
 "nbformat_minor": 2
}
